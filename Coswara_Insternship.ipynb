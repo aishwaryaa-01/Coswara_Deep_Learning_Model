{
 "cells": [
  {
   "cell_type": "markdown",
   "id": "daeaf445",
   "metadata": {},
   "source": [
    "# Coswara Deep Learning Model"
   ]
  },
  {
   "cell_type": "code",
   "execution_count": 1,
   "id": "434e024e",
   "metadata": {},
   "outputs": [],
   "source": [
    "import pandas as pd\n",
    "import numpy as np"
   ]
  },
  {
   "cell_type": "code",
   "execution_count": 2,
   "id": "6b76f7b7",
   "metadata": {},
   "outputs": [],
   "source": [
    "url = \"Coswara.csv\""
   ]
  },
  {
   "cell_type": "code",
   "execution_count": 3,
   "id": "300ff98a",
   "metadata": {},
   "outputs": [],
   "source": [
    "df= pd.read_csv(url)"
   ]
  },
  {
   "cell_type": "code",
   "execution_count": 4,
   "id": "91b1948e",
   "metadata": {},
   "outputs": [
    {
     "data": {
      "text/html": [
       "<div>\n",
       "<style scoped>\n",
       "    .dataframe tbody tr th:only-of-type {\n",
       "        vertical-align: middle;\n",
       "    }\n",
       "\n",
       "    .dataframe tbody tr th {\n",
       "        vertical-align: top;\n",
       "    }\n",
       "\n",
       "    .dataframe thead th {\n",
       "        text-align: right;\n",
       "    }\n",
       "</style>\n",
       "<table border=\"1\" class=\"dataframe\">\n",
       "  <thead>\n",
       "    <tr style=\"text-align: right;\">\n",
       "      <th></th>\n",
       "      <th>id</th>\n",
       "      <th>a</th>\n",
       "      <th>covid_status</th>\n",
       "      <th>ep</th>\n",
       "      <th>g</th>\n",
       "      <th>l_c</th>\n",
       "      <th>l_l</th>\n",
       "      <th>l_s</th>\n",
       "      <th>rU</th>\n",
       "      <th>smoker</th>\n",
       "      <th>...</th>\n",
       "      <th>diarrhoea</th>\n",
       "      <th>pneumonia</th>\n",
       "      <th>ctScan</th>\n",
       "      <th>testType</th>\n",
       "      <th>test_date</th>\n",
       "      <th>vacc</th>\n",
       "      <th>ctDate</th>\n",
       "      <th>ctScore</th>\n",
       "      <th>others_resp</th>\n",
       "      <th>others_preexist</th>\n",
       "    </tr>\n",
       "  </thead>\n",
       "  <tbody>\n",
       "    <tr>\n",
       "      <th>0</th>\n",
       "      <td>iV3Db6t1T8b7c5HQY2TwxIhjbzD3</td>\n",
       "      <td>28</td>\n",
       "      <td>healthy</td>\n",
       "      <td>y</td>\n",
       "      <td>male</td>\n",
       "      <td>India</td>\n",
       "      <td>Anantapur</td>\n",
       "      <td>Andhra Pradesh</td>\n",
       "      <td>n</td>\n",
       "      <td>NaN</td>\n",
       "      <td>...</td>\n",
       "      <td>NaN</td>\n",
       "      <td>NaN</td>\n",
       "      <td>NaN</td>\n",
       "      <td>NaN</td>\n",
       "      <td>NaN</td>\n",
       "      <td>NaN</td>\n",
       "      <td>NaN</td>\n",
       "      <td>NaN</td>\n",
       "      <td>NaN</td>\n",
       "      <td>NaN</td>\n",
       "    </tr>\n",
       "    <tr>\n",
       "      <th>1</th>\n",
       "      <td>AxuYWBN0jFVLINCBqIW5aZmGCdu1</td>\n",
       "      <td>25</td>\n",
       "      <td>healthy</td>\n",
       "      <td>y</td>\n",
       "      <td>male</td>\n",
       "      <td>India</td>\n",
       "      <td>BENGALURU URBAN</td>\n",
       "      <td>Karnataka</td>\n",
       "      <td>n</td>\n",
       "      <td>True</td>\n",
       "      <td>...</td>\n",
       "      <td>NaN</td>\n",
       "      <td>NaN</td>\n",
       "      <td>NaN</td>\n",
       "      <td>NaN</td>\n",
       "      <td>NaN</td>\n",
       "      <td>NaN</td>\n",
       "      <td>NaN</td>\n",
       "      <td>NaN</td>\n",
       "      <td>NaN</td>\n",
       "      <td>NaN</td>\n",
       "    </tr>\n",
       "    <tr>\n",
       "      <th>2</th>\n",
       "      <td>C5eIsssb9GSkaAgIfsHMHeR6fSh1</td>\n",
       "      <td>28</td>\n",
       "      <td>healthy</td>\n",
       "      <td>y</td>\n",
       "      <td>female</td>\n",
       "      <td>United States</td>\n",
       "      <td>Pittsburgh</td>\n",
       "      <td>Pennsylvania</td>\n",
       "      <td>n</td>\n",
       "      <td>NaN</td>\n",
       "      <td>...</td>\n",
       "      <td>NaN</td>\n",
       "      <td>NaN</td>\n",
       "      <td>NaN</td>\n",
       "      <td>NaN</td>\n",
       "      <td>NaN</td>\n",
       "      <td>NaN</td>\n",
       "      <td>NaN</td>\n",
       "      <td>NaN</td>\n",
       "      <td>NaN</td>\n",
       "      <td>NaN</td>\n",
       "    </tr>\n",
       "    <tr>\n",
       "      <th>3</th>\n",
       "      <td>YjbEAECMBIaZKyfqOvWy5DDImUb2</td>\n",
       "      <td>26</td>\n",
       "      <td>healthy</td>\n",
       "      <td>y</td>\n",
       "      <td>male</td>\n",
       "      <td>India</td>\n",
       "      <td>Bangalore</td>\n",
       "      <td>Karnataka</td>\n",
       "      <td>n</td>\n",
       "      <td>NaN</td>\n",
       "      <td>...</td>\n",
       "      <td>NaN</td>\n",
       "      <td>NaN</td>\n",
       "      <td>NaN</td>\n",
       "      <td>NaN</td>\n",
       "      <td>NaN</td>\n",
       "      <td>NaN</td>\n",
       "      <td>NaN</td>\n",
       "      <td>NaN</td>\n",
       "      <td>NaN</td>\n",
       "      <td>NaN</td>\n",
       "    </tr>\n",
       "    <tr>\n",
       "      <th>4</th>\n",
       "      <td>aGOvk4ji0cVqIzCs1jHnzlw2UEy2</td>\n",
       "      <td>32</td>\n",
       "      <td>healthy</td>\n",
       "      <td>y</td>\n",
       "      <td>male</td>\n",
       "      <td>India</td>\n",
       "      <td>Nalanda</td>\n",
       "      <td>Bihar</td>\n",
       "      <td>n</td>\n",
       "      <td>NaN</td>\n",
       "      <td>...</td>\n",
       "      <td>NaN</td>\n",
       "      <td>NaN</td>\n",
       "      <td>NaN</td>\n",
       "      <td>NaN</td>\n",
       "      <td>NaN</td>\n",
       "      <td>NaN</td>\n",
       "      <td>NaN</td>\n",
       "      <td>NaN</td>\n",
       "      <td>NaN</td>\n",
       "      <td>NaN</td>\n",
       "    </tr>\n",
       "  </tbody>\n",
       "</table>\n",
       "<p>5 rows × 35 columns</p>\n",
       "</div>"
      ],
      "text/plain": [
       "                             id   a covid_status ep       g            l_c  \\\n",
       "0  iV3Db6t1T8b7c5HQY2TwxIhjbzD3  28      healthy  y    male          India   \n",
       "1  AxuYWBN0jFVLINCBqIW5aZmGCdu1  25      healthy  y    male          India   \n",
       "2  C5eIsssb9GSkaAgIfsHMHeR6fSh1  28      healthy  y  female  United States   \n",
       "3  YjbEAECMBIaZKyfqOvWy5DDImUb2  26      healthy  y    male          India   \n",
       "4  aGOvk4ji0cVqIzCs1jHnzlw2UEy2  32      healthy  y    male          India   \n",
       "\n",
       "               l_l             l_s rU smoker  ... diarrhoea pneumonia ctScan  \\\n",
       "0        Anantapur  Andhra Pradesh  n    NaN  ...       NaN       NaN    NaN   \n",
       "1  BENGALURU URBAN       Karnataka  n   True  ...       NaN       NaN    NaN   \n",
       "2       Pittsburgh    Pennsylvania  n    NaN  ...       NaN       NaN    NaN   \n",
       "3        Bangalore       Karnataka  n    NaN  ...       NaN       NaN    NaN   \n",
       "4          Nalanda           Bihar  n    NaN  ...       NaN       NaN    NaN   \n",
       "\n",
       "  testType test_date vacc ctDate ctScore others_resp others_preexist  \n",
       "0      NaN       NaN  NaN    NaN     NaN         NaN             NaN  \n",
       "1      NaN       NaN  NaN    NaN     NaN         NaN             NaN  \n",
       "2      NaN       NaN  NaN    NaN     NaN         NaN             NaN  \n",
       "3      NaN       NaN  NaN    NaN     NaN         NaN             NaN  \n",
       "4      NaN       NaN  NaN    NaN     NaN         NaN             NaN  \n",
       "\n",
       "[5 rows x 35 columns]"
      ]
     },
     "execution_count": 4,
     "metadata": {},
     "output_type": "execute_result"
    }
   ],
   "source": [
    "df.head()"
   ]
  },
  {
   "cell_type": "code",
   "execution_count": 5,
   "id": "f283487d",
   "metadata": {},
   "outputs": [
    {
     "name": "stdout",
     "output_type": "stream",
     "text": [
      "<class 'pandas.core.frame.DataFrame'>\n",
      "RangeIndex: 1895 entries, 0 to 1894\n",
      "Data columns (total 35 columns):\n",
      " #   Column           Non-Null Count  Dtype  \n",
      "---  ------           --------------  -----  \n",
      " 0   id               1895 non-null   object \n",
      " 1   a                1895 non-null   int64  \n",
      " 2   covid_status     1895 non-null   object \n",
      " 3   ep               1895 non-null   object \n",
      " 4   g                1895 non-null   object \n",
      " 5   l_c              1895 non-null   object \n",
      " 6   l_l              1666 non-null   object \n",
      " 7   l_s              1895 non-null   object \n",
      " 8   rU               1215 non-null   object \n",
      " 9   smoker           235 non-null    object \n",
      " 10  cold             142 non-null    object \n",
      " 11  ht               125 non-null    object \n",
      " 12  diabetes         111 non-null    object \n",
      " 13  fever            127 non-null    object \n",
      " 14  asthma           73 non-null     object \n",
      " 15  um               857 non-null    object \n",
      " 16  cough            216 non-null    object \n",
      " 17  ihd              11 non-null     object \n",
      " 18  bd               70 non-null     object \n",
      " 19  st               85 non-null     object \n",
      " 20  ftg              92 non-null     object \n",
      " 21  mp               80 non-null     object \n",
      " 22  loss_of_smell    58 non-null     object \n",
      " 23  cld              8 non-null      object \n",
      " 24  test_status      482 non-null    object \n",
      " 25  diarrhoea        9 non-null      object \n",
      " 26  pneumonia        10 non-null     object \n",
      " 27  ctScan           112 non-null    object \n",
      " 28  testType         87 non-null     object \n",
      " 29  test_date        87 non-null     object \n",
      " 30  vacc             112 non-null    object \n",
      " 31  ctDate           11 non-null     object \n",
      " 32  ctScore          11 non-null     float64\n",
      " 33  others_resp      1 non-null      object \n",
      " 34  others_preexist  8 non-null      object \n",
      "dtypes: float64(1), int64(1), object(33)\n",
      "memory usage: 518.3+ KB\n"
     ]
    }
   ],
   "source": [
    "df.info()"
   ]
  },
  {
   "cell_type": "code",
   "execution_count": 6,
   "id": "8ab23688",
   "metadata": {},
   "outputs": [],
   "source": [
    "# check for missing values"
   ]
  },
  {
   "cell_type": "code",
   "execution_count": 7,
   "id": "2f2669e3",
   "metadata": {},
   "outputs": [
    {
     "data": {
      "text/plain": [
       "id                    0\n",
       "a                     0\n",
       "covid_status          0\n",
       "ep                    0\n",
       "g                     0\n",
       "l_c                   0\n",
       "l_l                 229\n",
       "l_s                   0\n",
       "rU                  680\n",
       "smoker             1660\n",
       "cold               1753\n",
       "ht                 1770\n",
       "diabetes           1784\n",
       "fever              1768\n",
       "asthma             1822\n",
       "um                 1038\n",
       "cough              1679\n",
       "ihd                1884\n",
       "bd                 1825\n",
       "st                 1810\n",
       "ftg                1803\n",
       "mp                 1815\n",
       "loss_of_smell      1837\n",
       "cld                1887\n",
       "test_status        1413\n",
       "diarrhoea          1886\n",
       "pneumonia          1885\n",
       "ctScan             1783\n",
       "testType           1808\n",
       "test_date          1808\n",
       "vacc               1783\n",
       "ctDate             1884\n",
       "ctScore            1884\n",
       "others_resp        1894\n",
       "others_preexist    1887\n",
       "dtype: int64"
      ]
     },
     "execution_count": 7,
     "metadata": {},
     "output_type": "execute_result"
    }
   ],
   "source": [
    "df.isnull().sum()"
   ]
  },
  {
   "cell_type": "code",
   "execution_count": 8,
   "id": "1d371e72",
   "metadata": {},
   "outputs": [],
   "source": [
    "# Replacing nan values with 0 in whole dataset"
   ]
  },
  {
   "cell_type": "code",
   "execution_count": 9,
   "id": "e07d7bc4",
   "metadata": {},
   "outputs": [],
   "source": [
    "df= df.replace(np.nan,0)"
   ]
  },
  {
   "cell_type": "code",
   "execution_count": 10,
   "id": "41ff1713",
   "metadata": {},
   "outputs": [
    {
     "data": {
      "text/html": [
       "<div>\n",
       "<style scoped>\n",
       "    .dataframe tbody tr th:only-of-type {\n",
       "        vertical-align: middle;\n",
       "    }\n",
       "\n",
       "    .dataframe tbody tr th {\n",
       "        vertical-align: top;\n",
       "    }\n",
       "\n",
       "    .dataframe thead th {\n",
       "        text-align: right;\n",
       "    }\n",
       "</style>\n",
       "<table border=\"1\" class=\"dataframe\">\n",
       "  <thead>\n",
       "    <tr style=\"text-align: right;\">\n",
       "      <th></th>\n",
       "      <th>id</th>\n",
       "      <th>a</th>\n",
       "      <th>covid_status</th>\n",
       "      <th>ep</th>\n",
       "      <th>g</th>\n",
       "      <th>l_c</th>\n",
       "      <th>l_l</th>\n",
       "      <th>l_s</th>\n",
       "      <th>rU</th>\n",
       "      <th>smoker</th>\n",
       "      <th>...</th>\n",
       "      <th>diarrhoea</th>\n",
       "      <th>pneumonia</th>\n",
       "      <th>ctScan</th>\n",
       "      <th>testType</th>\n",
       "      <th>test_date</th>\n",
       "      <th>vacc</th>\n",
       "      <th>ctDate</th>\n",
       "      <th>ctScore</th>\n",
       "      <th>others_resp</th>\n",
       "      <th>others_preexist</th>\n",
       "    </tr>\n",
       "  </thead>\n",
       "  <tbody>\n",
       "    <tr>\n",
       "      <th>0</th>\n",
       "      <td>iV3Db6t1T8b7c5HQY2TwxIhjbzD3</td>\n",
       "      <td>28</td>\n",
       "      <td>healthy</td>\n",
       "      <td>y</td>\n",
       "      <td>male</td>\n",
       "      <td>India</td>\n",
       "      <td>Anantapur</td>\n",
       "      <td>Andhra Pradesh</td>\n",
       "      <td>n</td>\n",
       "      <td>0</td>\n",
       "      <td>...</td>\n",
       "      <td>0</td>\n",
       "      <td>0</td>\n",
       "      <td>0</td>\n",
       "      <td>0</td>\n",
       "      <td>0</td>\n",
       "      <td>0</td>\n",
       "      <td>0</td>\n",
       "      <td>0.0</td>\n",
       "      <td>0</td>\n",
       "      <td>0</td>\n",
       "    </tr>\n",
       "    <tr>\n",
       "      <th>1</th>\n",
       "      <td>AxuYWBN0jFVLINCBqIW5aZmGCdu1</td>\n",
       "      <td>25</td>\n",
       "      <td>healthy</td>\n",
       "      <td>y</td>\n",
       "      <td>male</td>\n",
       "      <td>India</td>\n",
       "      <td>BENGALURU URBAN</td>\n",
       "      <td>Karnataka</td>\n",
       "      <td>n</td>\n",
       "      <td>True</td>\n",
       "      <td>...</td>\n",
       "      <td>0</td>\n",
       "      <td>0</td>\n",
       "      <td>0</td>\n",
       "      <td>0</td>\n",
       "      <td>0</td>\n",
       "      <td>0</td>\n",
       "      <td>0</td>\n",
       "      <td>0.0</td>\n",
       "      <td>0</td>\n",
       "      <td>0</td>\n",
       "    </tr>\n",
       "    <tr>\n",
       "      <th>2</th>\n",
       "      <td>C5eIsssb9GSkaAgIfsHMHeR6fSh1</td>\n",
       "      <td>28</td>\n",
       "      <td>healthy</td>\n",
       "      <td>y</td>\n",
       "      <td>female</td>\n",
       "      <td>United States</td>\n",
       "      <td>Pittsburgh</td>\n",
       "      <td>Pennsylvania</td>\n",
       "      <td>n</td>\n",
       "      <td>0</td>\n",
       "      <td>...</td>\n",
       "      <td>0</td>\n",
       "      <td>0</td>\n",
       "      <td>0</td>\n",
       "      <td>0</td>\n",
       "      <td>0</td>\n",
       "      <td>0</td>\n",
       "      <td>0</td>\n",
       "      <td>0.0</td>\n",
       "      <td>0</td>\n",
       "      <td>0</td>\n",
       "    </tr>\n",
       "    <tr>\n",
       "      <th>3</th>\n",
       "      <td>YjbEAECMBIaZKyfqOvWy5DDImUb2</td>\n",
       "      <td>26</td>\n",
       "      <td>healthy</td>\n",
       "      <td>y</td>\n",
       "      <td>male</td>\n",
       "      <td>India</td>\n",
       "      <td>Bangalore</td>\n",
       "      <td>Karnataka</td>\n",
       "      <td>n</td>\n",
       "      <td>0</td>\n",
       "      <td>...</td>\n",
       "      <td>0</td>\n",
       "      <td>0</td>\n",
       "      <td>0</td>\n",
       "      <td>0</td>\n",
       "      <td>0</td>\n",
       "      <td>0</td>\n",
       "      <td>0</td>\n",
       "      <td>0.0</td>\n",
       "      <td>0</td>\n",
       "      <td>0</td>\n",
       "    </tr>\n",
       "    <tr>\n",
       "      <th>4</th>\n",
       "      <td>aGOvk4ji0cVqIzCs1jHnzlw2UEy2</td>\n",
       "      <td>32</td>\n",
       "      <td>healthy</td>\n",
       "      <td>y</td>\n",
       "      <td>male</td>\n",
       "      <td>India</td>\n",
       "      <td>Nalanda</td>\n",
       "      <td>Bihar</td>\n",
       "      <td>n</td>\n",
       "      <td>0</td>\n",
       "      <td>...</td>\n",
       "      <td>0</td>\n",
       "      <td>0</td>\n",
       "      <td>0</td>\n",
       "      <td>0</td>\n",
       "      <td>0</td>\n",
       "      <td>0</td>\n",
       "      <td>0</td>\n",
       "      <td>0.0</td>\n",
       "      <td>0</td>\n",
       "      <td>0</td>\n",
       "    </tr>\n",
       "    <tr>\n",
       "      <th>...</th>\n",
       "      <td>...</td>\n",
       "      <td>...</td>\n",
       "      <td>...</td>\n",
       "      <td>...</td>\n",
       "      <td>...</td>\n",
       "      <td>...</td>\n",
       "      <td>...</td>\n",
       "      <td>...</td>\n",
       "      <td>...</td>\n",
       "      <td>...</td>\n",
       "      <td>...</td>\n",
       "      <td>...</td>\n",
       "      <td>...</td>\n",
       "      <td>...</td>\n",
       "      <td>...</td>\n",
       "      <td>...</td>\n",
       "      <td>...</td>\n",
       "      <td>...</td>\n",
       "      <td>...</td>\n",
       "      <td>...</td>\n",
       "      <td>...</td>\n",
       "    </tr>\n",
       "    <tr>\n",
       "      <th>1890</th>\n",
       "      <td>aH6o5lYN6vh40RCFhfyBYjkQVH13</td>\n",
       "      <td>33</td>\n",
       "      <td>healthy</td>\n",
       "      <td>y</td>\n",
       "      <td>male</td>\n",
       "      <td>India</td>\n",
       "      <td>24pgs</td>\n",
       "      <td>West Bengal</td>\n",
       "      <td>n</td>\n",
       "      <td>True</td>\n",
       "      <td>...</td>\n",
       "      <td>0</td>\n",
       "      <td>0</td>\n",
       "      <td>0</td>\n",
       "      <td>0</td>\n",
       "      <td>0</td>\n",
       "      <td>0</td>\n",
       "      <td>0</td>\n",
       "      <td>0.0</td>\n",
       "      <td>0</td>\n",
       "      <td>0</td>\n",
       "    </tr>\n",
       "    <tr>\n",
       "      <th>1891</th>\n",
       "      <td>hRMSJF9xD6h9CmQJzB3phXKNnTI2</td>\n",
       "      <td>42</td>\n",
       "      <td>recovered_full</td>\n",
       "      <td>y</td>\n",
       "      <td>male</td>\n",
       "      <td>India</td>\n",
       "      <td>Bangalore</td>\n",
       "      <td>Karnataka</td>\n",
       "      <td>n</td>\n",
       "      <td>0</td>\n",
       "      <td>...</td>\n",
       "      <td>0</td>\n",
       "      <td>0</td>\n",
       "      <td>0</td>\n",
       "      <td>0</td>\n",
       "      <td>0</td>\n",
       "      <td>0</td>\n",
       "      <td>0</td>\n",
       "      <td>0.0</td>\n",
       "      <td>0</td>\n",
       "      <td>0</td>\n",
       "    </tr>\n",
       "    <tr>\n",
       "      <th>1892</th>\n",
       "      <td>ZNTuppbDaCNybeDYGmyjJeYr93s1</td>\n",
       "      <td>27</td>\n",
       "      <td>healthy</td>\n",
       "      <td>y</td>\n",
       "      <td>female</td>\n",
       "      <td>India</td>\n",
       "      <td>0</td>\n",
       "      <td>Karnataka</td>\n",
       "      <td>n</td>\n",
       "      <td>0</td>\n",
       "      <td>...</td>\n",
       "      <td>0</td>\n",
       "      <td>0</td>\n",
       "      <td>0</td>\n",
       "      <td>0</td>\n",
       "      <td>0</td>\n",
       "      <td>0</td>\n",
       "      <td>0</td>\n",
       "      <td>0.0</td>\n",
       "      <td>0</td>\n",
       "      <td>0</td>\n",
       "    </tr>\n",
       "    <tr>\n",
       "      <th>1893</th>\n",
       "      <td>J7R2UkId7jU0aOSw5amaS8zJVIm1</td>\n",
       "      <td>37</td>\n",
       "      <td>healthy</td>\n",
       "      <td>y</td>\n",
       "      <td>male</td>\n",
       "      <td>India</td>\n",
       "      <td>0</td>\n",
       "      <td>Karnataka</td>\n",
       "      <td>n</td>\n",
       "      <td>0</td>\n",
       "      <td>...</td>\n",
       "      <td>0</td>\n",
       "      <td>0</td>\n",
       "      <td>0</td>\n",
       "      <td>0</td>\n",
       "      <td>0</td>\n",
       "      <td>0</td>\n",
       "      <td>0</td>\n",
       "      <td>0.0</td>\n",
       "      <td>0</td>\n",
       "      <td>0</td>\n",
       "    </tr>\n",
       "    <tr>\n",
       "      <th>1894</th>\n",
       "      <td>8MdsvTBMWAUInavE1pdmFQAZPF13</td>\n",
       "      <td>38</td>\n",
       "      <td>recovered_full</td>\n",
       "      <td>y</td>\n",
       "      <td>female</td>\n",
       "      <td>India</td>\n",
       "      <td>Bengaluru</td>\n",
       "      <td>Karnataka</td>\n",
       "      <td>n</td>\n",
       "      <td>0</td>\n",
       "      <td>...</td>\n",
       "      <td>0</td>\n",
       "      <td>0</td>\n",
       "      <td>0</td>\n",
       "      <td>0</td>\n",
       "      <td>0</td>\n",
       "      <td>0</td>\n",
       "      <td>0</td>\n",
       "      <td>0.0</td>\n",
       "      <td>0</td>\n",
       "      <td>0</td>\n",
       "    </tr>\n",
       "  </tbody>\n",
       "</table>\n",
       "<p>1895 rows × 35 columns</p>\n",
       "</div>"
      ],
      "text/plain": [
       "                                id   a    covid_status ep       g  \\\n",
       "0     iV3Db6t1T8b7c5HQY2TwxIhjbzD3  28         healthy  y    male   \n",
       "1     AxuYWBN0jFVLINCBqIW5aZmGCdu1  25         healthy  y    male   \n",
       "2     C5eIsssb9GSkaAgIfsHMHeR6fSh1  28         healthy  y  female   \n",
       "3     YjbEAECMBIaZKyfqOvWy5DDImUb2  26         healthy  y    male   \n",
       "4     aGOvk4ji0cVqIzCs1jHnzlw2UEy2  32         healthy  y    male   \n",
       "...                            ...  ..             ... ..     ...   \n",
       "1890  aH6o5lYN6vh40RCFhfyBYjkQVH13  33         healthy  y    male   \n",
       "1891  hRMSJF9xD6h9CmQJzB3phXKNnTI2  42  recovered_full  y    male   \n",
       "1892  ZNTuppbDaCNybeDYGmyjJeYr93s1  27         healthy  y  female   \n",
       "1893  J7R2UkId7jU0aOSw5amaS8zJVIm1  37         healthy  y    male   \n",
       "1894  8MdsvTBMWAUInavE1pdmFQAZPF13  38  recovered_full  y  female   \n",
       "\n",
       "                l_c              l_l             l_s rU smoker  ... diarrhoea  \\\n",
       "0             India        Anantapur  Andhra Pradesh  n      0  ...         0   \n",
       "1             India  BENGALURU URBAN       Karnataka  n   True  ...         0   \n",
       "2     United States       Pittsburgh    Pennsylvania  n      0  ...         0   \n",
       "3             India        Bangalore       Karnataka  n      0  ...         0   \n",
       "4             India          Nalanda           Bihar  n      0  ...         0   \n",
       "...             ...              ...             ... ..    ...  ...       ...   \n",
       "1890          India            24pgs     West Bengal  n   True  ...         0   \n",
       "1891          India        Bangalore       Karnataka  n      0  ...         0   \n",
       "1892          India                0       Karnataka  n      0  ...         0   \n",
       "1893          India                0       Karnataka  n      0  ...         0   \n",
       "1894          India        Bengaluru       Karnataka  n      0  ...         0   \n",
       "\n",
       "     pneumonia ctScan testType test_date vacc ctDate ctScore others_resp  \\\n",
       "0            0      0        0         0    0      0     0.0           0   \n",
       "1            0      0        0         0    0      0     0.0           0   \n",
       "2            0      0        0         0    0      0     0.0           0   \n",
       "3            0      0        0         0    0      0     0.0           0   \n",
       "4            0      0        0         0    0      0     0.0           0   \n",
       "...        ...    ...      ...       ...  ...    ...     ...         ...   \n",
       "1890         0      0        0         0    0      0     0.0           0   \n",
       "1891         0      0        0         0    0      0     0.0           0   \n",
       "1892         0      0        0         0    0      0     0.0           0   \n",
       "1893         0      0        0         0    0      0     0.0           0   \n",
       "1894         0      0        0         0    0      0     0.0           0   \n",
       "\n",
       "     others_preexist  \n",
       "0                  0  \n",
       "1                  0  \n",
       "2                  0  \n",
       "3                  0  \n",
       "4                  0  \n",
       "...              ...  \n",
       "1890               0  \n",
       "1891               0  \n",
       "1892               0  \n",
       "1893               0  \n",
       "1894               0  \n",
       "\n",
       "[1895 rows x 35 columns]"
      ]
     },
     "execution_count": 10,
     "metadata": {},
     "output_type": "execute_result"
    }
   ],
   "source": [
    "df"
   ]
  },
  {
   "cell_type": "code",
   "execution_count": 11,
   "id": "36e1210c",
   "metadata": {},
   "outputs": [],
   "source": [
    "#again checking for nan values"
   ]
  },
  {
   "cell_type": "code",
   "execution_count": 12,
   "id": "51d9cfba",
   "metadata": {},
   "outputs": [
    {
     "data": {
      "text/plain": [
       "id                 0\n",
       "a                  0\n",
       "covid_status       0\n",
       "ep                 0\n",
       "g                  0\n",
       "l_c                0\n",
       "l_l                0\n",
       "l_s                0\n",
       "rU                 0\n",
       "smoker             0\n",
       "cold               0\n",
       "ht                 0\n",
       "diabetes           0\n",
       "fever              0\n",
       "asthma             0\n",
       "um                 0\n",
       "cough              0\n",
       "ihd                0\n",
       "bd                 0\n",
       "st                 0\n",
       "ftg                0\n",
       "mp                 0\n",
       "loss_of_smell      0\n",
       "cld                0\n",
       "test_status        0\n",
       "diarrhoea          0\n",
       "pneumonia          0\n",
       "ctScan             0\n",
       "testType           0\n",
       "test_date          0\n",
       "vacc               0\n",
       "ctDate             0\n",
       "ctScore            0\n",
       "others_resp        0\n",
       "others_preexist    0\n",
       "dtype: int64"
      ]
     },
     "execution_count": 12,
     "metadata": {},
     "output_type": "execute_result"
    }
   ],
   "source": [
    "df.isnull().sum()"
   ]
  },
  {
   "cell_type": "code",
   "execution_count": 13,
   "id": "eb54b585",
   "metadata": {},
   "outputs": [],
   "source": [
    "# Renaming some columns"
   ]
  },
  {
   "cell_type": "code",
   "execution_count": 14,
   "id": "12c7f71e",
   "metadata": {},
   "outputs": [],
   "source": [
    "df.rename(columns={'a':'age','g':'gender','l_c':'country','l_l':'Locality','l_s':'state','rU':'returning user','ht':'hypertension','um':'using mask','ihd':'heart disease','bd':'breathing difficulty','st':'sore throat','ftg':'fatigue','mp':'muscle pain','cld':'chronic lungs desease'},inplace=True)"
   ]
  },
  {
   "cell_type": "code",
   "execution_count": 15,
   "id": "eb8c16dc",
   "metadata": {},
   "outputs": [
    {
     "data": {
      "text/html": [
       "<div>\n",
       "<style scoped>\n",
       "    .dataframe tbody tr th:only-of-type {\n",
       "        vertical-align: middle;\n",
       "    }\n",
       "\n",
       "    .dataframe tbody tr th {\n",
       "        vertical-align: top;\n",
       "    }\n",
       "\n",
       "    .dataframe thead th {\n",
       "        text-align: right;\n",
       "    }\n",
       "</style>\n",
       "<table border=\"1\" class=\"dataframe\">\n",
       "  <thead>\n",
       "    <tr style=\"text-align: right;\">\n",
       "      <th></th>\n",
       "      <th>id</th>\n",
       "      <th>age</th>\n",
       "      <th>covid_status</th>\n",
       "      <th>ep</th>\n",
       "      <th>gender</th>\n",
       "      <th>country</th>\n",
       "      <th>Locality</th>\n",
       "      <th>state</th>\n",
       "      <th>returning user</th>\n",
       "      <th>smoker</th>\n",
       "      <th>...</th>\n",
       "      <th>diarrhoea</th>\n",
       "      <th>pneumonia</th>\n",
       "      <th>ctScan</th>\n",
       "      <th>testType</th>\n",
       "      <th>test_date</th>\n",
       "      <th>vacc</th>\n",
       "      <th>ctDate</th>\n",
       "      <th>ctScore</th>\n",
       "      <th>others_resp</th>\n",
       "      <th>others_preexist</th>\n",
       "    </tr>\n",
       "  </thead>\n",
       "  <tbody>\n",
       "    <tr>\n",
       "      <th>0</th>\n",
       "      <td>iV3Db6t1T8b7c5HQY2TwxIhjbzD3</td>\n",
       "      <td>28</td>\n",
       "      <td>healthy</td>\n",
       "      <td>y</td>\n",
       "      <td>male</td>\n",
       "      <td>India</td>\n",
       "      <td>Anantapur</td>\n",
       "      <td>Andhra Pradesh</td>\n",
       "      <td>n</td>\n",
       "      <td>0</td>\n",
       "      <td>...</td>\n",
       "      <td>0</td>\n",
       "      <td>0</td>\n",
       "      <td>0</td>\n",
       "      <td>0</td>\n",
       "      <td>0</td>\n",
       "      <td>0</td>\n",
       "      <td>0</td>\n",
       "      <td>0.0</td>\n",
       "      <td>0</td>\n",
       "      <td>0</td>\n",
       "    </tr>\n",
       "    <tr>\n",
       "      <th>1</th>\n",
       "      <td>AxuYWBN0jFVLINCBqIW5aZmGCdu1</td>\n",
       "      <td>25</td>\n",
       "      <td>healthy</td>\n",
       "      <td>y</td>\n",
       "      <td>male</td>\n",
       "      <td>India</td>\n",
       "      <td>BENGALURU URBAN</td>\n",
       "      <td>Karnataka</td>\n",
       "      <td>n</td>\n",
       "      <td>True</td>\n",
       "      <td>...</td>\n",
       "      <td>0</td>\n",
       "      <td>0</td>\n",
       "      <td>0</td>\n",
       "      <td>0</td>\n",
       "      <td>0</td>\n",
       "      <td>0</td>\n",
       "      <td>0</td>\n",
       "      <td>0.0</td>\n",
       "      <td>0</td>\n",
       "      <td>0</td>\n",
       "    </tr>\n",
       "    <tr>\n",
       "      <th>2</th>\n",
       "      <td>C5eIsssb9GSkaAgIfsHMHeR6fSh1</td>\n",
       "      <td>28</td>\n",
       "      <td>healthy</td>\n",
       "      <td>y</td>\n",
       "      <td>female</td>\n",
       "      <td>United States</td>\n",
       "      <td>Pittsburgh</td>\n",
       "      <td>Pennsylvania</td>\n",
       "      <td>n</td>\n",
       "      <td>0</td>\n",
       "      <td>...</td>\n",
       "      <td>0</td>\n",
       "      <td>0</td>\n",
       "      <td>0</td>\n",
       "      <td>0</td>\n",
       "      <td>0</td>\n",
       "      <td>0</td>\n",
       "      <td>0</td>\n",
       "      <td>0.0</td>\n",
       "      <td>0</td>\n",
       "      <td>0</td>\n",
       "    </tr>\n",
       "    <tr>\n",
       "      <th>3</th>\n",
       "      <td>YjbEAECMBIaZKyfqOvWy5DDImUb2</td>\n",
       "      <td>26</td>\n",
       "      <td>healthy</td>\n",
       "      <td>y</td>\n",
       "      <td>male</td>\n",
       "      <td>India</td>\n",
       "      <td>Bangalore</td>\n",
       "      <td>Karnataka</td>\n",
       "      <td>n</td>\n",
       "      <td>0</td>\n",
       "      <td>...</td>\n",
       "      <td>0</td>\n",
       "      <td>0</td>\n",
       "      <td>0</td>\n",
       "      <td>0</td>\n",
       "      <td>0</td>\n",
       "      <td>0</td>\n",
       "      <td>0</td>\n",
       "      <td>0.0</td>\n",
       "      <td>0</td>\n",
       "      <td>0</td>\n",
       "    </tr>\n",
       "    <tr>\n",
       "      <th>4</th>\n",
       "      <td>aGOvk4ji0cVqIzCs1jHnzlw2UEy2</td>\n",
       "      <td>32</td>\n",
       "      <td>healthy</td>\n",
       "      <td>y</td>\n",
       "      <td>male</td>\n",
       "      <td>India</td>\n",
       "      <td>Nalanda</td>\n",
       "      <td>Bihar</td>\n",
       "      <td>n</td>\n",
       "      <td>0</td>\n",
       "      <td>...</td>\n",
       "      <td>0</td>\n",
       "      <td>0</td>\n",
       "      <td>0</td>\n",
       "      <td>0</td>\n",
       "      <td>0</td>\n",
       "      <td>0</td>\n",
       "      <td>0</td>\n",
       "      <td>0.0</td>\n",
       "      <td>0</td>\n",
       "      <td>0</td>\n",
       "    </tr>\n",
       "  </tbody>\n",
       "</table>\n",
       "<p>5 rows × 35 columns</p>\n",
       "</div>"
      ],
      "text/plain": [
       "                             id  age covid_status ep  gender        country  \\\n",
       "0  iV3Db6t1T8b7c5HQY2TwxIhjbzD3   28      healthy  y    male          India   \n",
       "1  AxuYWBN0jFVLINCBqIW5aZmGCdu1   25      healthy  y    male          India   \n",
       "2  C5eIsssb9GSkaAgIfsHMHeR6fSh1   28      healthy  y  female  United States   \n",
       "3  YjbEAECMBIaZKyfqOvWy5DDImUb2   26      healthy  y    male          India   \n",
       "4  aGOvk4ji0cVqIzCs1jHnzlw2UEy2   32      healthy  y    male          India   \n",
       "\n",
       "          Locality           state returning user smoker  ... diarrhoea  \\\n",
       "0        Anantapur  Andhra Pradesh              n      0  ...         0   \n",
       "1  BENGALURU URBAN       Karnataka              n   True  ...         0   \n",
       "2       Pittsburgh    Pennsylvania              n      0  ...         0   \n",
       "3        Bangalore       Karnataka              n      0  ...         0   \n",
       "4          Nalanda           Bihar              n      0  ...         0   \n",
       "\n",
       "  pneumonia ctScan testType test_date vacc ctDate ctScore others_resp  \\\n",
       "0         0      0        0         0    0      0     0.0           0   \n",
       "1         0      0        0         0    0      0     0.0           0   \n",
       "2         0      0        0         0    0      0     0.0           0   \n",
       "3         0      0        0         0    0      0     0.0           0   \n",
       "4         0      0        0         0    0      0     0.0           0   \n",
       "\n",
       "  others_preexist  \n",
       "0               0  \n",
       "1               0  \n",
       "2               0  \n",
       "3               0  \n",
       "4               0  \n",
       "\n",
       "[5 rows x 35 columns]"
      ]
     },
     "execution_count": 15,
     "metadata": {},
     "output_type": "execute_result"
    }
   ],
   "source": [
    "df.head()"
   ]
  },
  {
   "cell_type": "markdown",
   "id": "a1077f91",
   "metadata": {},
   "source": [
    "## Categorical to numerical transformation"
   ]
  },
  {
   "cell_type": "code",
   "execution_count": 16,
   "id": "b44dfeb5",
   "metadata": {},
   "outputs": [
    {
     "data": {
      "text/plain": [
       "y    1778\n",
       "n     117\n",
       "Name: ep, dtype: int64"
      ]
     },
     "execution_count": 16,
     "metadata": {},
     "output_type": "execute_result"
    }
   ],
   "source": [
    "df['ep'].value_counts()"
   ]
  },
  {
   "cell_type": "code",
   "execution_count": 17,
   "id": "9e102b5c",
   "metadata": {},
   "outputs": [],
   "source": [
    "df['ep'].replace({\"y\":\"1\",\"n\":\"0\"},inplace = True)\n",
    "df['ep']= df['ep'].astype('int64')"
   ]
  },
  {
   "cell_type": "code",
   "execution_count": 18,
   "id": "7971af5c",
   "metadata": {},
   "outputs": [
    {
     "data": {
      "text/plain": [
       "male      1387\n",
       "female     507\n",
       "other        1\n",
       "Name: gender, dtype: int64"
      ]
     },
     "execution_count": 18,
     "metadata": {},
     "output_type": "execute_result"
    }
   ],
   "source": [
    "df['gender'].value_counts()"
   ]
  },
  {
   "cell_type": "code",
   "execution_count": 19,
   "id": "d0719d36",
   "metadata": {},
   "outputs": [],
   "source": [
    "df['gender'].replace({\"male\":\"0\",\"female\":\"1\",\"other\":\"2\"},inplace = True)\n",
    "df['gender']= df['gender'].astype('int64')"
   ]
  },
  {
   "cell_type": "code",
   "execution_count": 20,
   "id": "57bee4e7",
   "metadata": {},
   "outputs": [
    {
     "data": {
      "text/plain": [
       "0       1784\n",
       "True     111\n",
       "Name: diabetes, dtype: int64"
      ]
     },
     "execution_count": 20,
     "metadata": {},
     "output_type": "execute_result"
    }
   ],
   "source": [
    "df['diabetes'].value_counts()"
   ]
  },
  {
   "cell_type": "code",
   "execution_count": 21,
   "id": "bc714b74",
   "metadata": {},
   "outputs": [],
   "source": [
    "df['diabetes'].replace({\"True\":\"1\"},inplace = True)\n",
    "df['diabetes']= df['diabetes'].astype('int64')"
   ]
  },
  {
   "cell_type": "code",
   "execution_count": 22,
   "id": "460c8db8",
   "metadata": {},
   "outputs": [
    {
     "data": {
      "text/plain": [
       "0       1822\n",
       "True      73\n",
       "Name: asthma, dtype: int64"
      ]
     },
     "execution_count": 22,
     "metadata": {},
     "output_type": "execute_result"
    }
   ],
   "source": [
    "df['asthma'].value_counts()"
   ]
  },
  {
   "cell_type": "code",
   "execution_count": 23,
   "id": "e94f52ad",
   "metadata": {},
   "outputs": [],
   "source": [
    "df['asthma'].replace({\"True\":\"1\"},inplace = True)\n",
    "df['asthma']= df['asthma'].astype('int64')"
   ]
  },
  {
   "cell_type": "code",
   "execution_count": 24,
   "id": "e7accb74",
   "metadata": {},
   "outputs": [
    {
     "data": {
      "text/plain": [
       "0        1660\n",
       "True      123\n",
       "n         105\n",
       "y           6\n",
       "False       1\n",
       "Name: smoker, dtype: int64"
      ]
     },
     "execution_count": 24,
     "metadata": {},
     "output_type": "execute_result"
    }
   ],
   "source": [
    "df['smoker'].value_counts()"
   ]
  },
  {
   "cell_type": "code",
   "execution_count": 25,
   "id": "19d2ec33",
   "metadata": {},
   "outputs": [],
   "source": [
    "df['smoker'].replace({\"True\":\"1\",\"n\":\"2\",\"y\":\"3\",\"False\":\"4\"},inplace = True)\n",
    "df['smoker']= df['smoker'].astype('int64')"
   ]
  },
  {
   "cell_type": "code",
   "execution_count": 26,
   "id": "2b06ff00",
   "metadata": {},
   "outputs": [
    {
     "data": {
      "text/plain": [
       "0       1770\n",
       "True     125\n",
       "Name: hypertension, dtype: int64"
      ]
     },
     "execution_count": 26,
     "metadata": {},
     "output_type": "execute_result"
    }
   ],
   "source": [
    "df['hypertension'].value_counts()"
   ]
  },
  {
   "cell_type": "code",
   "execution_count": 27,
   "id": "5c51deee",
   "metadata": {},
   "outputs": [],
   "source": [
    "df['hypertension'].replace({\"True\":\"1\"},inplace = True)\n",
    "df['hypertension']= df['hypertension'].astype('int64')"
   ]
  },
  {
   "cell_type": "code",
   "execution_count": 28,
   "id": "0112e2ee",
   "metadata": {},
   "outputs": [
    {
     "data": {
      "text/plain": [
       "0       1768\n",
       "True     127\n",
       "Name: fever, dtype: int64"
      ]
     },
     "execution_count": 28,
     "metadata": {},
     "output_type": "execute_result"
    }
   ],
   "source": [
    "df['fever'].value_counts()"
   ]
  },
  {
   "cell_type": "code",
   "execution_count": 29,
   "id": "e310a14b",
   "metadata": {},
   "outputs": [],
   "source": [
    "df['fever'].replace({\"True\":\"1\"},inplace = True)\n",
    "df['fever']= df['fever'].astype('int64')"
   ]
  },
  {
   "cell_type": "code",
   "execution_count": 30,
   "id": "d83f209c",
   "metadata": {},
   "outputs": [
    {
     "data": {
      "text/plain": [
       "n    1161\n",
       "0     680\n",
       "y      54\n",
       "Name: returning user, dtype: int64"
      ]
     },
     "execution_count": 30,
     "metadata": {},
     "output_type": "execute_result"
    }
   ],
   "source": [
    "df['returning user'].value_counts()"
   ]
  },
  {
   "cell_type": "code",
   "execution_count": 31,
   "id": "852de4d3",
   "metadata": {},
   "outputs": [],
   "source": [
    "df['returning user'].replace({\"n\":\"1\",\"y\":\"2\"},inplace = True)\n",
    "df['returning user']= df['returning user'].astype('int64')"
   ]
  },
  {
   "cell_type": "code",
   "execution_count": 32,
   "id": "ee6ef593",
   "metadata": {},
   "outputs": [
    {
     "data": {
      "text/plain": [
       "0    1038\n",
       "n     682\n",
       "y     175\n",
       "Name: using mask, dtype: int64"
      ]
     },
     "execution_count": 32,
     "metadata": {},
     "output_type": "execute_result"
    }
   ],
   "source": [
    "df['using mask'].value_counts()"
   ]
  },
  {
   "cell_type": "code",
   "execution_count": 33,
   "id": "054cecd8",
   "metadata": {},
   "outputs": [],
   "source": [
    "df['using mask'].replace({\"n\":\"1\",\"y\":\"2\"},inplace = True)\n",
    "df['using mask']= df['using mask'].astype('int64')"
   ]
  },
  {
   "cell_type": "code",
   "execution_count": 34,
   "id": "ca028e99",
   "metadata": {},
   "outputs": [
    {
     "data": {
      "text/plain": [
       "0       1753\n",
       "True     142\n",
       "Name: cold, dtype: int64"
      ]
     },
     "execution_count": 34,
     "metadata": {},
     "output_type": "execute_result"
    }
   ],
   "source": [
    "df['cold'].value_counts()"
   ]
  },
  {
   "cell_type": "code",
   "execution_count": 35,
   "id": "abee5ccc",
   "metadata": {},
   "outputs": [],
   "source": [
    "df['cold'].replace({\"True\":\"1\"},inplace = True)\n",
    "df['cold']= df['cold'].astype('int64')"
   ]
  },
  {
   "cell_type": "code",
   "execution_count": 36,
   "id": "a57e1a6e",
   "metadata": {},
   "outputs": [
    {
     "data": {
      "text/plain": [
       "0       1679\n",
       "True     216\n",
       "Name: cough, dtype: int64"
      ]
     },
     "execution_count": 36,
     "metadata": {},
     "output_type": "execute_result"
    }
   ],
   "source": [
    "df['cough'].value_counts()"
   ]
  },
  {
   "cell_type": "code",
   "execution_count": 37,
   "id": "a9dd04e7",
   "metadata": {},
   "outputs": [],
   "source": [
    "df['cough'].replace({\"True\":\"1\"},inplace = True)\n",
    "df['cough']= df['cough'].astype('int64')"
   ]
  },
  {
   "cell_type": "code",
   "execution_count": 38,
   "id": "c75b4e86",
   "metadata": {},
   "outputs": [
    {
     "data": {
      "text/plain": [
       "0       1815\n",
       "True      80\n",
       "Name: muscle pain, dtype: int64"
      ]
     },
     "execution_count": 38,
     "metadata": {},
     "output_type": "execute_result"
    }
   ],
   "source": [
    "df['muscle pain'].value_counts()"
   ]
  },
  {
   "cell_type": "code",
   "execution_count": 39,
   "id": "a39eb300",
   "metadata": {},
   "outputs": [],
   "source": [
    "df['muscle pain'].replace({\"True\":\"1\"},inplace = True)\n",
    "df['muscle pain']= df['muscle pain'].astype('int64')"
   ]
  },
  {
   "cell_type": "code",
   "execution_count": 40,
   "id": "f92b1bb0",
   "metadata": {},
   "outputs": [
    {
     "data": {
      "text/plain": [
       "0       1803\n",
       "True      92\n",
       "Name: fatigue, dtype: int64"
      ]
     },
     "execution_count": 40,
     "metadata": {},
     "output_type": "execute_result"
    }
   ],
   "source": [
    "df['fatigue'].value_counts()"
   ]
  },
  {
   "cell_type": "code",
   "execution_count": 41,
   "id": "ef91c4e1",
   "metadata": {},
   "outputs": [],
   "source": [
    "df['fatigue'].replace({\"True\":\"1\"},inplace = True)\n",
    "df['fatigue']= df['fatigue'].astype('int64')"
   ]
  },
  {
   "cell_type": "code",
   "execution_count": 42,
   "id": "c9f724a1",
   "metadata": {},
   "outputs": [
    {
     "data": {
      "text/plain": [
       "0       1810\n",
       "True      85\n",
       "Name: sore throat, dtype: int64"
      ]
     },
     "execution_count": 42,
     "metadata": {},
     "output_type": "execute_result"
    }
   ],
   "source": [
    "df['sore throat'].value_counts()"
   ]
  },
  {
   "cell_type": "code",
   "execution_count": 43,
   "id": "9582d675",
   "metadata": {},
   "outputs": [],
   "source": [
    "df['sore throat'].replace({\"True\":\"1\"},inplace = True)\n",
    "df['sore throat']= df['sore throat'].astype('int64')"
   ]
  },
  {
   "cell_type": "code",
   "execution_count": 44,
   "id": "f2c257d6",
   "metadata": {},
   "outputs": [
    {
     "data": {
      "text/plain": [
       "0       1837\n",
       "True      58\n",
       "Name: loss_of_smell, dtype: int64"
      ]
     },
     "execution_count": 44,
     "metadata": {},
     "output_type": "execute_result"
    }
   ],
   "source": [
    "df['loss_of_smell'].value_counts()"
   ]
  },
  {
   "cell_type": "code",
   "execution_count": 45,
   "id": "19aa0cfa",
   "metadata": {},
   "outputs": [],
   "source": [
    "df['loss_of_smell'].replace({\"True\":\"1\"},inplace = True)\n",
    "df['loss_of_smell']= df['loss_of_smell'].astype('int64')"
   ]
  },
  {
   "cell_type": "code",
   "execution_count": 46,
   "id": "2612112f",
   "metadata": {},
   "outputs": [
    {
     "data": {
      "text/plain": [
       "0       1887\n",
       "True       8\n",
       "Name: chronic lungs desease, dtype: int64"
      ]
     },
     "execution_count": 46,
     "metadata": {},
     "output_type": "execute_result"
    }
   ],
   "source": [
    "df['chronic lungs desease'].value_counts()"
   ]
  },
  {
   "cell_type": "code",
   "execution_count": 47,
   "id": "7668c0f4",
   "metadata": {},
   "outputs": [],
   "source": [
    "df['chronic lungs desease'].replace({\"True\":\"1\"},inplace = True)\n",
    "df['chronic lungs desease']= df['chronic lungs desease'].astype('int64')"
   ]
  },
  {
   "cell_type": "code",
   "execution_count": 48,
   "id": "cd58568a",
   "metadata": {},
   "outputs": [
    {
     "data": {
      "text/plain": [
       "0       1884\n",
       "True      11\n",
       "Name: heart disease, dtype: int64"
      ]
     },
     "execution_count": 48,
     "metadata": {},
     "output_type": "execute_result"
    }
   ],
   "source": [
    "df['heart disease'].value_counts()"
   ]
  },
  {
   "cell_type": "code",
   "execution_count": 49,
   "id": "55078498",
   "metadata": {},
   "outputs": [],
   "source": [
    "df['heart disease'].replace({\"True\":\"1\"},inplace = True)\n",
    "df['heart disease']= df['heart disease'].astype('int64')"
   ]
  },
  {
   "cell_type": "code",
   "execution_count": 50,
   "id": "6cf860e4",
   "metadata": {},
   "outputs": [
    {
     "data": {
      "text/plain": [
       "0       1885\n",
       "True      10\n",
       "Name: pneumonia, dtype: int64"
      ]
     },
     "execution_count": 50,
     "metadata": {},
     "output_type": "execute_result"
    }
   ],
   "source": [
    "df['pneumonia'].value_counts()"
   ]
  },
  {
   "cell_type": "code",
   "execution_count": 51,
   "id": "7745d8ca",
   "metadata": {},
   "outputs": [],
   "source": [
    "df['pneumonia'].replace({\"True\":\"1\"},inplace = True)\n",
    "df['pneumonia']= df['pneumonia'].astype('int64')"
   ]
  },
  {
   "cell_type": "code",
   "execution_count": 52,
   "id": "928a8cd2",
   "metadata": {},
   "outputs": [
    {
     "data": {
      "text/plain": [
       "0     1413\n",
       "na     181\n",
       "p      176\n",
       "n      125\n",
       "Name: test_status, dtype: int64"
      ]
     },
     "execution_count": 52,
     "metadata": {},
     "output_type": "execute_result"
    }
   ],
   "source": [
    "df['test_status'].value_counts()"
   ]
  },
  {
   "cell_type": "code",
   "execution_count": 53,
   "id": "9b684a65",
   "metadata": {},
   "outputs": [],
   "source": [
    "df['test_status'].replace({\"p\":\"1\",\"n\":\"0\",\"na\":\"0\"},inplace = True)\n",
    "df['test_status']= df['test_status'].astype('int64')"
   ]
  },
  {
   "cell_type": "code",
   "execution_count": 54,
   "id": "a5a6f2db",
   "metadata": {},
   "outputs": [
    {
     "data": {
      "text/plain": [
       "0       1825\n",
       "True      70\n",
       "Name: breathing difficulty, dtype: int64"
      ]
     },
     "execution_count": 54,
     "metadata": {},
     "output_type": "execute_result"
    }
   ],
   "source": [
    "df['breathing difficulty'].value_counts()"
   ]
  },
  {
   "cell_type": "code",
   "execution_count": 55,
   "id": "a7568b10",
   "metadata": {},
   "outputs": [],
   "source": [
    "df['breathing difficulty'].replace({\"True\":\"1\"},inplace = True)\n",
    "df['breathing difficulty']= df['breathing difficulty'].astype('int64')"
   ]
  },
  {
   "cell_type": "code",
   "execution_count": 56,
   "id": "4ddcb68b",
   "metadata": {},
   "outputs": [
    {
     "data": {
      "text/plain": [
       "healthy                        1337\n",
       "positive_mild                   178\n",
       "no_resp_illness_exposed         154\n",
       "resp_illness_not_identified      90\n",
       "recovered_full                   64\n",
       "positive_moderate                40\n",
       "positive_asymp                   32\n",
       "Name: covid_status, dtype: int64"
      ]
     },
     "execution_count": 56,
     "metadata": {},
     "output_type": "execute_result"
    }
   ],
   "source": [
    "df['covid_status'].value_counts()"
   ]
  },
  {
   "cell_type": "code",
   "execution_count": 57,
   "id": "fcc88cda",
   "metadata": {},
   "outputs": [],
   "source": [
    "# remove unnecessary columns"
   ]
  },
  {
   "cell_type": "code",
   "execution_count": 58,
   "id": "a4e05a1f",
   "metadata": {},
   "outputs": [],
   "source": [
    "df.drop(['Locality','country','id','state','test_date','ctDate','others_resp','others_preexist','testType','vacc'],axis=1,inplace=True)"
   ]
  },
  {
   "cell_type": "code",
   "execution_count": 59,
   "id": "a189a5c4",
   "metadata": {},
   "outputs": [
    {
     "data": {
      "text/html": [
       "<div>\n",
       "<style scoped>\n",
       "    .dataframe tbody tr th:only-of-type {\n",
       "        vertical-align: middle;\n",
       "    }\n",
       "\n",
       "    .dataframe tbody tr th {\n",
       "        vertical-align: top;\n",
       "    }\n",
       "\n",
       "    .dataframe thead th {\n",
       "        text-align: right;\n",
       "    }\n",
       "</style>\n",
       "<table border=\"1\" class=\"dataframe\">\n",
       "  <thead>\n",
       "    <tr style=\"text-align: right;\">\n",
       "      <th></th>\n",
       "      <th>age</th>\n",
       "      <th>covid_status</th>\n",
       "      <th>ep</th>\n",
       "      <th>gender</th>\n",
       "      <th>returning user</th>\n",
       "      <th>smoker</th>\n",
       "      <th>cold</th>\n",
       "      <th>hypertension</th>\n",
       "      <th>diabetes</th>\n",
       "      <th>fever</th>\n",
       "      <th>...</th>\n",
       "      <th>sore throat</th>\n",
       "      <th>fatigue</th>\n",
       "      <th>muscle pain</th>\n",
       "      <th>loss_of_smell</th>\n",
       "      <th>chronic lungs desease</th>\n",
       "      <th>test_status</th>\n",
       "      <th>diarrhoea</th>\n",
       "      <th>pneumonia</th>\n",
       "      <th>ctScan</th>\n",
       "      <th>ctScore</th>\n",
       "    </tr>\n",
       "  </thead>\n",
       "  <tbody>\n",
       "    <tr>\n",
       "      <th>0</th>\n",
       "      <td>28</td>\n",
       "      <td>healthy</td>\n",
       "      <td>1</td>\n",
       "      <td>0</td>\n",
       "      <td>1</td>\n",
       "      <td>0</td>\n",
       "      <td>0</td>\n",
       "      <td>0</td>\n",
       "      <td>0</td>\n",
       "      <td>0</td>\n",
       "      <td>...</td>\n",
       "      <td>0</td>\n",
       "      <td>0</td>\n",
       "      <td>0</td>\n",
       "      <td>0</td>\n",
       "      <td>0</td>\n",
       "      <td>0</td>\n",
       "      <td>0</td>\n",
       "      <td>0</td>\n",
       "      <td>0</td>\n",
       "      <td>0.0</td>\n",
       "    </tr>\n",
       "    <tr>\n",
       "      <th>1</th>\n",
       "      <td>25</td>\n",
       "      <td>healthy</td>\n",
       "      <td>1</td>\n",
       "      <td>0</td>\n",
       "      <td>1</td>\n",
       "      <td>1</td>\n",
       "      <td>0</td>\n",
       "      <td>0</td>\n",
       "      <td>0</td>\n",
       "      <td>0</td>\n",
       "      <td>...</td>\n",
       "      <td>0</td>\n",
       "      <td>0</td>\n",
       "      <td>0</td>\n",
       "      <td>0</td>\n",
       "      <td>0</td>\n",
       "      <td>0</td>\n",
       "      <td>0</td>\n",
       "      <td>0</td>\n",
       "      <td>0</td>\n",
       "      <td>0.0</td>\n",
       "    </tr>\n",
       "    <tr>\n",
       "      <th>2</th>\n",
       "      <td>28</td>\n",
       "      <td>healthy</td>\n",
       "      <td>1</td>\n",
       "      <td>1</td>\n",
       "      <td>1</td>\n",
       "      <td>0</td>\n",
       "      <td>0</td>\n",
       "      <td>0</td>\n",
       "      <td>0</td>\n",
       "      <td>0</td>\n",
       "      <td>...</td>\n",
       "      <td>0</td>\n",
       "      <td>0</td>\n",
       "      <td>0</td>\n",
       "      <td>0</td>\n",
       "      <td>0</td>\n",
       "      <td>0</td>\n",
       "      <td>0</td>\n",
       "      <td>0</td>\n",
       "      <td>0</td>\n",
       "      <td>0.0</td>\n",
       "    </tr>\n",
       "    <tr>\n",
       "      <th>3</th>\n",
       "      <td>26</td>\n",
       "      <td>healthy</td>\n",
       "      <td>1</td>\n",
       "      <td>0</td>\n",
       "      <td>1</td>\n",
       "      <td>0</td>\n",
       "      <td>1</td>\n",
       "      <td>0</td>\n",
       "      <td>0</td>\n",
       "      <td>0</td>\n",
       "      <td>...</td>\n",
       "      <td>0</td>\n",
       "      <td>0</td>\n",
       "      <td>0</td>\n",
       "      <td>0</td>\n",
       "      <td>0</td>\n",
       "      <td>0</td>\n",
       "      <td>0</td>\n",
       "      <td>0</td>\n",
       "      <td>0</td>\n",
       "      <td>0.0</td>\n",
       "    </tr>\n",
       "    <tr>\n",
       "      <th>4</th>\n",
       "      <td>32</td>\n",
       "      <td>healthy</td>\n",
       "      <td>1</td>\n",
       "      <td>0</td>\n",
       "      <td>1</td>\n",
       "      <td>0</td>\n",
       "      <td>0</td>\n",
       "      <td>0</td>\n",
       "      <td>0</td>\n",
       "      <td>0</td>\n",
       "      <td>...</td>\n",
       "      <td>0</td>\n",
       "      <td>0</td>\n",
       "      <td>0</td>\n",
       "      <td>0</td>\n",
       "      <td>0</td>\n",
       "      <td>0</td>\n",
       "      <td>0</td>\n",
       "      <td>0</td>\n",
       "      <td>0</td>\n",
       "      <td>0.0</td>\n",
       "    </tr>\n",
       "  </tbody>\n",
       "</table>\n",
       "<p>5 rows × 25 columns</p>\n",
       "</div>"
      ],
      "text/plain": [
       "   age covid_status  ep  gender  returning user  smoker  cold  hypertension  \\\n",
       "0   28      healthy   1       0               1       0     0             0   \n",
       "1   25      healthy   1       0               1       1     0             0   \n",
       "2   28      healthy   1       1               1       0     0             0   \n",
       "3   26      healthy   1       0               1       0     1             0   \n",
       "4   32      healthy   1       0               1       0     0             0   \n",
       "\n",
       "   diabetes  fever  ...  sore throat  fatigue  muscle pain  loss_of_smell  \\\n",
       "0         0      0  ...            0        0            0              0   \n",
       "1         0      0  ...            0        0            0              0   \n",
       "2         0      0  ...            0        0            0              0   \n",
       "3         0      0  ...            0        0            0              0   \n",
       "4         0      0  ...            0        0            0              0   \n",
       "\n",
       "   chronic lungs desease  test_status  diarrhoea  pneumonia  ctScan  ctScore  \n",
       "0                      0            0          0          0       0      0.0  \n",
       "1                      0            0          0          0       0      0.0  \n",
       "2                      0            0          0          0       0      0.0  \n",
       "3                      0            0          0          0       0      0.0  \n",
       "4                      0            0          0          0       0      0.0  \n",
       "\n",
       "[5 rows x 25 columns]"
      ]
     },
     "execution_count": 59,
     "metadata": {},
     "output_type": "execute_result"
    }
   ],
   "source": [
    "df.head()"
   ]
  },
  {
   "cell_type": "code",
   "execution_count": 60,
   "id": "b9249d4d",
   "metadata": {},
   "outputs": [],
   "source": [
    "#target value=test_status"
   ]
  },
  {
   "cell_type": "code",
   "execution_count": 61,
   "id": "e9cd37ac",
   "metadata": {},
   "outputs": [],
   "source": [
    "#converting covid status to numerical form\n",
    "# Using Sklearn One hot Encoder"
   ]
  },
  {
   "cell_type": "code",
   "execution_count": 62,
   "id": "62157641",
   "metadata": {},
   "outputs": [],
   "source": [
    "from sklearn.preprocessing import OneHotEncoder\n",
    "onehotencoder = OneHotEncoder()\n",
    "X = onehotencoder.fit_transform(df[[\"covid_status\"]])\n",
    "dfone = pd.DataFrame(X.toarray(),columns = onehotencoder.categories_)\n",
    "df = pd.concat([df,dfone], axis = 1)\n",
    "df = df.drop(['covid_status'],axis = 1)"
   ]
  },
  {
   "cell_type": "code",
   "execution_count": 63,
   "id": "2c626dbc",
   "metadata": {},
   "outputs": [],
   "source": [
    "# converting age to numerical form"
   ]
  },
  {
   "cell_type": "code",
   "execution_count": 64,
   "id": "f5ce2849",
   "metadata": {},
   "outputs": [],
   "source": [
    "#data binning on age"
   ]
  },
  {
   "cell_type": "code",
   "execution_count": 65,
   "id": "9f5bd529",
   "metadata": {},
   "outputs": [],
   "source": [
    "bins= [0,20,50,100]"
   ]
  },
  {
   "cell_type": "code",
   "execution_count": 66,
   "id": "623ededd",
   "metadata": {},
   "outputs": [],
   "source": [
    "category = ['low','medium','high']"
   ]
  },
  {
   "cell_type": "code",
   "execution_count": 67,
   "id": "f9b9e72f",
   "metadata": {},
   "outputs": [],
   "source": [
    "df['age']=pd.cut(df['age'],bins,labels= category)"
   ]
  },
  {
   "cell_type": "code",
   "execution_count": 68,
   "id": "6d04c6a5",
   "metadata": {},
   "outputs": [
    {
     "data": {
      "text/plain": [
       "0       medium\n",
       "1       medium\n",
       "2       medium\n",
       "3       medium\n",
       "4       medium\n",
       "         ...  \n",
       "1890    medium\n",
       "1891    medium\n",
       "1892    medium\n",
       "1893    medium\n",
       "1894    medium\n",
       "Name: age, Length: 1895, dtype: category\n",
       "Categories (3, object): ['low' < 'medium' < 'high']"
      ]
     },
     "execution_count": 68,
     "metadata": {},
     "output_type": "execute_result"
    }
   ],
   "source": [
    "df.age"
   ]
  },
  {
   "cell_type": "code",
   "execution_count": 69,
   "id": "c68b8f25",
   "metadata": {},
   "outputs": [
    {
     "data": {
      "text/plain": [
       "medium    1502\n",
       "high       244\n",
       "low        149\n",
       "Name: age, dtype: int64"
      ]
     },
     "execution_count": 69,
     "metadata": {},
     "output_type": "execute_result"
    }
   ],
   "source": [
    "df['age'].value_counts()"
   ]
  },
  {
   "cell_type": "code",
   "execution_count": 70,
   "id": "2503db25",
   "metadata": {},
   "outputs": [],
   "source": [
    "df['age'].replace({\"low\":\"0\",\"medium\":\"1\",\"high\":\"2\"},inplace = True)\n",
    "df['age']= df['age'].astype('int64')"
   ]
  },
  {
   "cell_type": "code",
   "execution_count": 71,
   "id": "b949fcb7",
   "metadata": {},
   "outputs": [
    {
     "data": {
      "text/plain": [
       "0    1783\n",
       "n     101\n",
       "y      11\n",
       "Name: ctScan, dtype: int64"
      ]
     },
     "execution_count": 71,
     "metadata": {},
     "output_type": "execute_result"
    }
   ],
   "source": [
    "df['ctScan'].value_counts()"
   ]
  },
  {
   "cell_type": "code",
   "execution_count": 72,
   "id": "7eb98ddf",
   "metadata": {},
   "outputs": [],
   "source": [
    "df['ctScan'].replace({\"n\":\"0\",\"y\":\"1\"},inplace = True)\n",
    "df['ctScan']= df['ctScan'].astype('int64')"
   ]
  },
  {
   "cell_type": "code",
   "execution_count": 73,
   "id": "6386cf83",
   "metadata": {},
   "outputs": [
    {
     "data": {
      "text/plain": [
       "0       1886\n",
       "True       9\n",
       "Name: diarrhoea, dtype: int64"
      ]
     },
     "execution_count": 73,
     "metadata": {},
     "output_type": "execute_result"
    }
   ],
   "source": [
    "df['diarrhoea'].value_counts()"
   ]
  },
  {
   "cell_type": "code",
   "execution_count": 74,
   "id": "d4c9a04c",
   "metadata": {},
   "outputs": [],
   "source": [
    "df['diarrhoea'].replace({\"True\":\"1\"},inplace = True)\n",
    "df['diarrhoea']= df['diarrhoea'].astype('int64')"
   ]
  },
  {
   "cell_type": "code",
   "execution_count": 75,
   "id": "78dfd23d",
   "metadata": {},
   "outputs": [
    {
     "data": {
      "text/html": [
       "<div>\n",
       "<style scoped>\n",
       "    .dataframe tbody tr th:only-of-type {\n",
       "        vertical-align: middle;\n",
       "    }\n",
       "\n",
       "    .dataframe tbody tr th {\n",
       "        vertical-align: top;\n",
       "    }\n",
       "\n",
       "    .dataframe thead th {\n",
       "        text-align: right;\n",
       "    }\n",
       "</style>\n",
       "<table border=\"1\" class=\"dataframe\">\n",
       "  <thead>\n",
       "    <tr style=\"text-align: right;\">\n",
       "      <th></th>\n",
       "      <th>age</th>\n",
       "      <th>ep</th>\n",
       "      <th>gender</th>\n",
       "      <th>returning user</th>\n",
       "      <th>smoker</th>\n",
       "      <th>cold</th>\n",
       "      <th>hypertension</th>\n",
       "      <th>diabetes</th>\n",
       "      <th>fever</th>\n",
       "      <th>asthma</th>\n",
       "      <th>...</th>\n",
       "      <th>pneumonia</th>\n",
       "      <th>ctScan</th>\n",
       "      <th>ctScore</th>\n",
       "      <th>(healthy,)</th>\n",
       "      <th>(no_resp_illness_exposed,)</th>\n",
       "      <th>(positive_asymp,)</th>\n",
       "      <th>(positive_mild,)</th>\n",
       "      <th>(positive_moderate,)</th>\n",
       "      <th>(recovered_full,)</th>\n",
       "      <th>(resp_illness_not_identified,)</th>\n",
       "    </tr>\n",
       "  </thead>\n",
       "  <tbody>\n",
       "    <tr>\n",
       "      <th>0</th>\n",
       "      <td>1</td>\n",
       "      <td>1</td>\n",
       "      <td>0</td>\n",
       "      <td>1</td>\n",
       "      <td>0</td>\n",
       "      <td>0</td>\n",
       "      <td>0</td>\n",
       "      <td>0</td>\n",
       "      <td>0</td>\n",
       "      <td>0</td>\n",
       "      <td>...</td>\n",
       "      <td>0</td>\n",
       "      <td>0</td>\n",
       "      <td>0.0</td>\n",
       "      <td>1.0</td>\n",
       "      <td>0.0</td>\n",
       "      <td>0.0</td>\n",
       "      <td>0.0</td>\n",
       "      <td>0.0</td>\n",
       "      <td>0.0</td>\n",
       "      <td>0.0</td>\n",
       "    </tr>\n",
       "    <tr>\n",
       "      <th>1</th>\n",
       "      <td>1</td>\n",
       "      <td>1</td>\n",
       "      <td>0</td>\n",
       "      <td>1</td>\n",
       "      <td>1</td>\n",
       "      <td>0</td>\n",
       "      <td>0</td>\n",
       "      <td>0</td>\n",
       "      <td>0</td>\n",
       "      <td>0</td>\n",
       "      <td>...</td>\n",
       "      <td>0</td>\n",
       "      <td>0</td>\n",
       "      <td>0.0</td>\n",
       "      <td>1.0</td>\n",
       "      <td>0.0</td>\n",
       "      <td>0.0</td>\n",
       "      <td>0.0</td>\n",
       "      <td>0.0</td>\n",
       "      <td>0.0</td>\n",
       "      <td>0.0</td>\n",
       "    </tr>\n",
       "    <tr>\n",
       "      <th>2</th>\n",
       "      <td>1</td>\n",
       "      <td>1</td>\n",
       "      <td>1</td>\n",
       "      <td>1</td>\n",
       "      <td>0</td>\n",
       "      <td>0</td>\n",
       "      <td>0</td>\n",
       "      <td>0</td>\n",
       "      <td>0</td>\n",
       "      <td>0</td>\n",
       "      <td>...</td>\n",
       "      <td>0</td>\n",
       "      <td>0</td>\n",
       "      <td>0.0</td>\n",
       "      <td>1.0</td>\n",
       "      <td>0.0</td>\n",
       "      <td>0.0</td>\n",
       "      <td>0.0</td>\n",
       "      <td>0.0</td>\n",
       "      <td>0.0</td>\n",
       "      <td>0.0</td>\n",
       "    </tr>\n",
       "    <tr>\n",
       "      <th>3</th>\n",
       "      <td>1</td>\n",
       "      <td>1</td>\n",
       "      <td>0</td>\n",
       "      <td>1</td>\n",
       "      <td>0</td>\n",
       "      <td>1</td>\n",
       "      <td>0</td>\n",
       "      <td>0</td>\n",
       "      <td>0</td>\n",
       "      <td>0</td>\n",
       "      <td>...</td>\n",
       "      <td>0</td>\n",
       "      <td>0</td>\n",
       "      <td>0.0</td>\n",
       "      <td>1.0</td>\n",
       "      <td>0.0</td>\n",
       "      <td>0.0</td>\n",
       "      <td>0.0</td>\n",
       "      <td>0.0</td>\n",
       "      <td>0.0</td>\n",
       "      <td>0.0</td>\n",
       "    </tr>\n",
       "    <tr>\n",
       "      <th>4</th>\n",
       "      <td>1</td>\n",
       "      <td>1</td>\n",
       "      <td>0</td>\n",
       "      <td>1</td>\n",
       "      <td>0</td>\n",
       "      <td>0</td>\n",
       "      <td>0</td>\n",
       "      <td>0</td>\n",
       "      <td>0</td>\n",
       "      <td>0</td>\n",
       "      <td>...</td>\n",
       "      <td>0</td>\n",
       "      <td>0</td>\n",
       "      <td>0.0</td>\n",
       "      <td>1.0</td>\n",
       "      <td>0.0</td>\n",
       "      <td>0.0</td>\n",
       "      <td>0.0</td>\n",
       "      <td>0.0</td>\n",
       "      <td>0.0</td>\n",
       "      <td>0.0</td>\n",
       "    </tr>\n",
       "  </tbody>\n",
       "</table>\n",
       "<p>5 rows × 31 columns</p>\n",
       "</div>"
      ],
      "text/plain": [
       "   age  ep  gender  returning user  smoker  cold  hypertension  diabetes  \\\n",
       "0    1   1       0               1       0     0             0         0   \n",
       "1    1   1       0               1       1     0             0         0   \n",
       "2    1   1       1               1       0     0             0         0   \n",
       "3    1   1       0               1       0     1             0         0   \n",
       "4    1   1       0               1       0     0             0         0   \n",
       "\n",
       "   fever  asthma  ...  pneumonia  ctScan  ctScore  (healthy,)  \\\n",
       "0      0       0  ...          0       0      0.0         1.0   \n",
       "1      0       0  ...          0       0      0.0         1.0   \n",
       "2      0       0  ...          0       0      0.0         1.0   \n",
       "3      0       0  ...          0       0      0.0         1.0   \n",
       "4      0       0  ...          0       0      0.0         1.0   \n",
       "\n",
       "   (no_resp_illness_exposed,)  (positive_asymp,)  (positive_mild,)  \\\n",
       "0                         0.0                0.0               0.0   \n",
       "1                         0.0                0.0               0.0   \n",
       "2                         0.0                0.0               0.0   \n",
       "3                         0.0                0.0               0.0   \n",
       "4                         0.0                0.0               0.0   \n",
       "\n",
       "   (positive_moderate,)  (recovered_full,)  (resp_illness_not_identified,)  \n",
       "0                   0.0                0.0                             0.0  \n",
       "1                   0.0                0.0                             0.0  \n",
       "2                   0.0                0.0                             0.0  \n",
       "3                   0.0                0.0                             0.0  \n",
       "4                   0.0                0.0                             0.0  \n",
       "\n",
       "[5 rows x 31 columns]"
      ]
     },
     "execution_count": 75,
     "metadata": {},
     "output_type": "execute_result"
    }
   ],
   "source": [
    "df.head()"
   ]
  },
  {
   "cell_type": "code",
   "execution_count": 76,
   "id": "27ea7ffc",
   "metadata": {},
   "outputs": [
    {
     "name": "stdout",
     "output_type": "stream",
     "text": [
      "<class 'pandas.core.frame.DataFrame'>\n",
      "RangeIndex: 1895 entries, 0 to 1894\n",
      "Data columns (total 31 columns):\n",
      " #   Column                          Non-Null Count  Dtype  \n",
      "---  ------                          --------------  -----  \n",
      " 0   age                             1895 non-null   int64  \n",
      " 1   ep                              1895 non-null   int64  \n",
      " 2   gender                          1895 non-null   int64  \n",
      " 3   returning user                  1895 non-null   int64  \n",
      " 4   smoker                          1895 non-null   int64  \n",
      " 5   cold                            1895 non-null   int64  \n",
      " 6   hypertension                    1895 non-null   int64  \n",
      " 7   diabetes                        1895 non-null   int64  \n",
      " 8   fever                           1895 non-null   int64  \n",
      " 9   asthma                          1895 non-null   int64  \n",
      " 10  using mask                      1895 non-null   int64  \n",
      " 11  cough                           1895 non-null   int64  \n",
      " 12  heart disease                   1895 non-null   int64  \n",
      " 13  breathing difficulty            1895 non-null   int64  \n",
      " 14  sore throat                     1895 non-null   int64  \n",
      " 15  fatigue                         1895 non-null   int64  \n",
      " 16  muscle pain                     1895 non-null   int64  \n",
      " 17  loss_of_smell                   1895 non-null   int64  \n",
      " 18  chronic lungs desease           1895 non-null   int64  \n",
      " 19  test_status                     1895 non-null   int64  \n",
      " 20  diarrhoea                       1895 non-null   int64  \n",
      " 21  pneumonia                       1895 non-null   int64  \n",
      " 22  ctScan                          1895 non-null   int64  \n",
      " 23  ctScore                         1895 non-null   float64\n",
      " 24  (healthy,)                      1895 non-null   float64\n",
      " 25  (no_resp_illness_exposed,)      1895 non-null   float64\n",
      " 26  (positive_asymp,)               1895 non-null   float64\n",
      " 27  (positive_mild,)                1895 non-null   float64\n",
      " 28  (positive_moderate,)            1895 non-null   float64\n",
      " 29  (recovered_full,)               1895 non-null   float64\n",
      " 30  (resp_illness_not_identified,)  1895 non-null   float64\n",
      "dtypes: float64(8), int64(23)\n",
      "memory usage: 459.1 KB\n"
     ]
    }
   ],
   "source": [
    "df.info()"
   ]
  },
  {
   "cell_type": "code",
   "execution_count": 77,
   "id": "f138ca2d",
   "metadata": {},
   "outputs": [],
   "source": [
    "# Plotting Histograms"
   ]
  },
  {
   "cell_type": "code",
   "execution_count": 78,
   "id": "402313a7",
   "metadata": {},
   "outputs": [],
   "source": [
    "#%matplotlib inline\n",
    "#import matplotlib.pyplot as plt\n",
    "#df.hist(bins=50,figsize=(40,25))"
   ]
  },
  {
   "cell_type": "markdown",
   "id": "360f7409",
   "metadata": {},
   "source": [
    "# Train-Test Splitting"
   ]
  },
  {
   "cell_type": "code",
   "execution_count": 79,
   "id": "034c1165",
   "metadata": {},
   "outputs": [
    {
     "name": "stdout",
     "output_type": "stream",
     "text": [
      "Rows in train set:1516\n",
      " Rows in test set:379\n",
      "\n"
     ]
    }
   ],
   "source": [
    "from sklearn.model_selection import train_test_split\n",
    "train_set,test_set = train_test_split(df,test_size = 0.2 , random_state = 42)\n",
    "print(f\"Rows in train set:{len(train_set)}\\n Rows in test set:{len(test_set)}\\n\")"
   ]
  },
  {
   "cell_type": "code",
   "execution_count": 80,
   "id": "21ca3824",
   "metadata": {},
   "outputs": [],
   "source": [
    "#Check for equal distribution of target value"
   ]
  },
  {
   "cell_type": "code",
   "execution_count": 81,
   "id": "40932a62",
   "metadata": {},
   "outputs": [
    {
     "data": {
      "text/plain": [
       "0    341\n",
       "1     38\n",
       "Name: test_status, dtype: int64"
      ]
     },
     "execution_count": 81,
     "metadata": {},
     "output_type": "execute_result"
    }
   ],
   "source": [
    "test_set['test_status'].value_counts()"
   ]
  },
  {
   "cell_type": "code",
   "execution_count": 82,
   "id": "65d2b3b4",
   "metadata": {},
   "outputs": [
    {
     "data": {
      "text/plain": [
       "0    1378\n",
       "1     138\n",
       "Name: test_status, dtype: int64"
      ]
     },
     "execution_count": 82,
     "metadata": {},
     "output_type": "execute_result"
    }
   ],
   "source": [
    "train_set['test_status'].value_counts()"
   ]
  },
  {
   "cell_type": "code",
   "execution_count": 83,
   "id": "21cf8019",
   "metadata": {},
   "outputs": [],
   "source": [
    "df=train_set.copy()"
   ]
  },
  {
   "cell_type": "code",
   "execution_count": 84,
   "id": "cdad7c17",
   "metadata": {},
   "outputs": [],
   "source": [
    "df=train_set.drop(\"test_status\",axis=1)\n",
    "df_labels=train_set[\"test_status\"].copy()"
   ]
  },
  {
   "cell_type": "markdown",
   "id": "49d96d7c",
   "metadata": {},
   "source": [
    "## Building Artificial Neural Network"
   ]
  },
  {
   "cell_type": "code",
   "execution_count": 85,
   "id": "8f5eaf07",
   "metadata": {},
   "outputs": [],
   "source": [
    "import keras\n",
    "from keras.models import Sequential\n",
    "from keras.layers import Dense"
   ]
  },
  {
   "cell_type": "code",
   "execution_count": 86,
   "id": "548896c8",
   "metadata": {},
   "outputs": [],
   "source": [
    "#initialize the classifier\n",
    "classifier = Sequential()"
   ]
  },
  {
   "cell_type": "code",
   "execution_count": 87,
   "id": "1a87f794",
   "metadata": {},
   "outputs": [],
   "source": [
    "#start adding layers to your network"
   ]
  },
  {
   "cell_type": "code",
   "execution_count": 88,
   "id": "37b38ec7",
   "metadata": {},
   "outputs": [],
   "source": [
    "classifier.add(Dense(9, kernel_initializer = \"uniform\",activation = \"relu\" , input_dim=30))\n",
    "#30 is total features including target as well."
   ]
  },
  {
   "cell_type": "code",
   "execution_count": 89,
   "id": "d35f1217",
   "metadata": {},
   "outputs": [],
   "source": [
    "#add output layer to compute predictions"
   ]
  },
  {
   "cell_type": "code",
   "execution_count": 90,
   "id": "3ef567ec",
   "metadata": {},
   "outputs": [],
   "source": [
    "classifier.add(Dense(1,kernel_initializer=\"uniform\",activation=\"sigmoid\"))"
   ]
  },
  {
   "cell_type": "code",
   "execution_count": 91,
   "id": "1d0d50cc",
   "metadata": {},
   "outputs": [],
   "source": [
    "# Applying gradient descent using compile function"
   ]
  },
  {
   "cell_type": "code",
   "execution_count": 92,
   "id": "252f7926",
   "metadata": {},
   "outputs": [],
   "source": [
    "classifier.compile(optimizer=\"adam\",loss=\"binary_crossentropy\",metrics=[\"accuracy\"])"
   ]
  },
  {
   "cell_type": "code",
   "execution_count": 93,
   "id": "6d6d30cb",
   "metadata": {},
   "outputs": [],
   "source": [
    "#fit your classifier to dataset"
   ]
  },
  {
   "cell_type": "code",
   "execution_count": 94,
   "id": "5681bdba",
   "metadata": {},
   "outputs": [],
   "source": [
    "#using fit method of keras"
   ]
  },
  {
   "cell_type": "code",
   "execution_count": 95,
   "id": "b642f2eb",
   "metadata": {},
   "outputs": [
    {
     "name": "stdout",
     "output_type": "stream",
     "text": [
      "152/152 [==============================] - 0s 803us/step - loss: 0.5588 - accuracy: 0.9057\n"
     ]
    },
    {
     "data": {
      "text/plain": [
       "<tensorflow.python.keras.callbacks.History at 0x1a830524eb0>"
      ]
     },
     "execution_count": 95,
     "metadata": {},
     "output_type": "execute_result"
    }
   ],
   "source": [
    "classifier.fit(df,df_labels,batch_size=10,epochs=1)"
   ]
  },
  {
   "cell_type": "code",
   "execution_count": 96,
   "id": "33153106",
   "metadata": {},
   "outputs": [],
   "source": [
    "# making predictions uding Test data"
   ]
  },
  {
   "cell_type": "code",
   "execution_count": 97,
   "id": "92590f00",
   "metadata": {},
   "outputs": [],
   "source": [
    "X_test=test_set.drop(\"test_status\",axis=1)\n",
    "Y_test=test_set[\"test_status\"].copy()"
   ]
  },
  {
   "cell_type": "code",
   "execution_count": 98,
   "id": "17c04122",
   "metadata": {},
   "outputs": [],
   "source": [
    "y_pred=classifier.predict(X_test)"
   ]
  },
  {
   "cell_type": "code",
   "execution_count": 99,
   "id": "5e49b4aa",
   "metadata": {},
   "outputs": [],
   "source": [
    "y_pred=(y_pred>0.5)"
   ]
  },
  {
   "cell_type": "code",
   "execution_count": 100,
   "id": "3fcc533e",
   "metadata": {},
   "outputs": [
    {
     "data": {
      "text/plain": [
       "array([[341,   0],\n",
       "       [ 38,   0]], dtype=int64)"
      ]
     },
     "execution_count": 100,
     "metadata": {},
     "output_type": "execute_result"
    }
   ],
   "source": [
    "from sklearn.metrics import confusion_matrix\n",
    "cm = confusion_matrix(Y_test,y_pred)\n",
    "cm"
   ]
  },
  {
   "cell_type": "code",
   "execution_count": 101,
   "id": "302ce09c",
   "metadata": {},
   "outputs": [],
   "source": [
    "# my deep learning model has made 341+0=341 correct predictions and 38+0=38 wrong predictions"
   ]
  },
  {
   "cell_type": "code",
   "execution_count": 102,
   "id": "ee0bacb4",
   "metadata": {},
   "outputs": [],
   "source": [
    "from sklearn.metrics import accuracy_score\n",
    "testing_data_accuracy = accuracy_score(y_pred,Y_test)"
   ]
  },
  {
   "cell_type": "code",
   "execution_count": 103,
   "id": "e9f8b9cb",
   "metadata": {},
   "outputs": [
    {
     "name": "stdout",
     "output_type": "stream",
     "text": [
      "Accuracy on testing data: 0.899736147757256\n"
     ]
    }
   ],
   "source": [
    "print('Accuracy on testing data:',testing_data_accuracy)"
   ]
  },
  {
   "cell_type": "code",
   "execution_count": 104,
   "id": "2c3e82c6",
   "metadata": {},
   "outputs": [],
   "source": [
    "# Making single predictions using model we have developed"
   ]
  },
  {
   "cell_type": "code",
   "execution_count": 105,
   "id": "935a6202",
   "metadata": {},
   "outputs": [
    {
     "data": {
      "text/html": [
       "<div>\n",
       "<style scoped>\n",
       "    .dataframe tbody tr th:only-of-type {\n",
       "        vertical-align: middle;\n",
       "    }\n",
       "\n",
       "    .dataframe tbody tr th {\n",
       "        vertical-align: top;\n",
       "    }\n",
       "\n",
       "    .dataframe thead th {\n",
       "        text-align: right;\n",
       "    }\n",
       "</style>\n",
       "<table border=\"1\" class=\"dataframe\">\n",
       "  <thead>\n",
       "    <tr style=\"text-align: right;\">\n",
       "      <th></th>\n",
       "      <th>age</th>\n",
       "      <th>ep</th>\n",
       "      <th>gender</th>\n",
       "      <th>returning user</th>\n",
       "      <th>smoker</th>\n",
       "      <th>cold</th>\n",
       "      <th>hypertension</th>\n",
       "      <th>diabetes</th>\n",
       "      <th>fever</th>\n",
       "      <th>asthma</th>\n",
       "      <th>...</th>\n",
       "      <th>pneumonia</th>\n",
       "      <th>ctScan</th>\n",
       "      <th>ctScore</th>\n",
       "      <th>(healthy,)</th>\n",
       "      <th>(no_resp_illness_exposed,)</th>\n",
       "      <th>(positive_asymp,)</th>\n",
       "      <th>(positive_mild,)</th>\n",
       "      <th>(positive_moderate,)</th>\n",
       "      <th>(recovered_full,)</th>\n",
       "      <th>(resp_illness_not_identified,)</th>\n",
       "    </tr>\n",
       "  </thead>\n",
       "  <tbody>\n",
       "    <tr>\n",
       "      <th>1319</th>\n",
       "      <td>1</td>\n",
       "      <td>1</td>\n",
       "      <td>0</td>\n",
       "      <td>0</td>\n",
       "      <td>0</td>\n",
       "      <td>0</td>\n",
       "      <td>0</td>\n",
       "      <td>0</td>\n",
       "      <td>0</td>\n",
       "      <td>0</td>\n",
       "      <td>...</td>\n",
       "      <td>0</td>\n",
       "      <td>0</td>\n",
       "      <td>0.0</td>\n",
       "      <td>1.0</td>\n",
       "      <td>0.0</td>\n",
       "      <td>0.0</td>\n",
       "      <td>0.0</td>\n",
       "      <td>0.0</td>\n",
       "      <td>0.0</td>\n",
       "      <td>0.0</td>\n",
       "    </tr>\n",
       "    <tr>\n",
       "      <th>611</th>\n",
       "      <td>1</td>\n",
       "      <td>1</td>\n",
       "      <td>0</td>\n",
       "      <td>1</td>\n",
       "      <td>0</td>\n",
       "      <td>0</td>\n",
       "      <td>0</td>\n",
       "      <td>0</td>\n",
       "      <td>0</td>\n",
       "      <td>0</td>\n",
       "      <td>...</td>\n",
       "      <td>0</td>\n",
       "      <td>0</td>\n",
       "      <td>0.0</td>\n",
       "      <td>1.0</td>\n",
       "      <td>0.0</td>\n",
       "      <td>0.0</td>\n",
       "      <td>0.0</td>\n",
       "      <td>0.0</td>\n",
       "      <td>0.0</td>\n",
       "      <td>0.0</td>\n",
       "    </tr>\n",
       "    <tr>\n",
       "      <th>964</th>\n",
       "      <td>1</td>\n",
       "      <td>1</td>\n",
       "      <td>1</td>\n",
       "      <td>1</td>\n",
       "      <td>0</td>\n",
       "      <td>0</td>\n",
       "      <td>0</td>\n",
       "      <td>0</td>\n",
       "      <td>0</td>\n",
       "      <td>0</td>\n",
       "      <td>...</td>\n",
       "      <td>0</td>\n",
       "      <td>0</td>\n",
       "      <td>0.0</td>\n",
       "      <td>1.0</td>\n",
       "      <td>0.0</td>\n",
       "      <td>0.0</td>\n",
       "      <td>0.0</td>\n",
       "      <td>0.0</td>\n",
       "      <td>0.0</td>\n",
       "      <td>0.0</td>\n",
       "    </tr>\n",
       "    <tr>\n",
       "      <th>1316</th>\n",
       "      <td>1</td>\n",
       "      <td>1</td>\n",
       "      <td>0</td>\n",
       "      <td>0</td>\n",
       "      <td>0</td>\n",
       "      <td>0</td>\n",
       "      <td>0</td>\n",
       "      <td>0</td>\n",
       "      <td>0</td>\n",
       "      <td>0</td>\n",
       "      <td>...</td>\n",
       "      <td>0</td>\n",
       "      <td>0</td>\n",
       "      <td>0.0</td>\n",
       "      <td>1.0</td>\n",
       "      <td>0.0</td>\n",
       "      <td>0.0</td>\n",
       "      <td>0.0</td>\n",
       "      <td>0.0</td>\n",
       "      <td>0.0</td>\n",
       "      <td>0.0</td>\n",
       "    </tr>\n",
       "    <tr>\n",
       "      <th>585</th>\n",
       "      <td>1</td>\n",
       "      <td>1</td>\n",
       "      <td>0</td>\n",
       "      <td>1</td>\n",
       "      <td>0</td>\n",
       "      <td>0</td>\n",
       "      <td>0</td>\n",
       "      <td>0</td>\n",
       "      <td>0</td>\n",
       "      <td>0</td>\n",
       "      <td>...</td>\n",
       "      <td>0</td>\n",
       "      <td>0</td>\n",
       "      <td>0.0</td>\n",
       "      <td>1.0</td>\n",
       "      <td>0.0</td>\n",
       "      <td>0.0</td>\n",
       "      <td>0.0</td>\n",
       "      <td>0.0</td>\n",
       "      <td>0.0</td>\n",
       "      <td>0.0</td>\n",
       "    </tr>\n",
       "  </tbody>\n",
       "</table>\n",
       "<p>5 rows × 30 columns</p>\n",
       "</div>"
      ],
      "text/plain": [
       "      age  ep  gender  returning user  smoker  cold  hypertension  diabetes  \\\n",
       "1319    1   1       0               0       0     0             0         0   \n",
       "611     1   1       0               1       0     0             0         0   \n",
       "964     1   1       1               1       0     0             0         0   \n",
       "1316    1   1       0               0       0     0             0         0   \n",
       "585     1   1       0               1       0     0             0         0   \n",
       "\n",
       "      fever  asthma  ...  pneumonia  ctScan  ctScore  (healthy,)  \\\n",
       "1319      0       0  ...          0       0      0.0         1.0   \n",
       "611       0       0  ...          0       0      0.0         1.0   \n",
       "964       0       0  ...          0       0      0.0         1.0   \n",
       "1316      0       0  ...          0       0      0.0         1.0   \n",
       "585       0       0  ...          0       0      0.0         1.0   \n",
       "\n",
       "      (no_resp_illness_exposed,)  (positive_asymp,)  (positive_mild,)  \\\n",
       "1319                         0.0                0.0               0.0   \n",
       "611                          0.0                0.0               0.0   \n",
       "964                          0.0                0.0               0.0   \n",
       "1316                         0.0                0.0               0.0   \n",
       "585                          0.0                0.0               0.0   \n",
       "\n",
       "      (positive_moderate,)  (recovered_full,)  (resp_illness_not_identified,)  \n",
       "1319                   0.0                0.0                             0.0  \n",
       "611                    0.0                0.0                             0.0  \n",
       "964                    0.0                0.0                             0.0  \n",
       "1316                   0.0                0.0                             0.0  \n",
       "585                    0.0                0.0                             0.0  \n",
       "\n",
       "[5 rows x 30 columns]"
      ]
     },
     "execution_count": 105,
     "metadata": {},
     "output_type": "execute_result"
    }
   ],
   "source": [
    "X_test.head()"
   ]
  },
  {
   "cell_type": "code",
   "execution_count": 106,
   "id": "233ba638",
   "metadata": {},
   "outputs": [
    {
     "data": {
      "text/plain": [
       "age                               1.0\n",
       "ep                                1.0\n",
       "gender                            0.0\n",
       "returning user                    1.0\n",
       "smoker                            0.0\n",
       "cold                              0.0\n",
       "hypertension                      0.0\n",
       "diabetes                          0.0\n",
       "fever                             0.0\n",
       "asthma                            0.0\n",
       "using mask                        0.0\n",
       "cough                             1.0\n",
       "heart disease                     0.0\n",
       "breathing difficulty              0.0\n",
       "sore throat                       0.0\n",
       "fatigue                           0.0\n",
       "muscle pain                       0.0\n",
       "loss_of_smell                     0.0\n",
       "chronic lungs desease             0.0\n",
       "diarrhoea                         0.0\n",
       "pneumonia                         0.0\n",
       "ctScan                            0.0\n",
       "ctScore                           0.0\n",
       "(healthy,)                        1.0\n",
       "(no_resp_illness_exposed,)        0.0\n",
       "(positive_asymp,)                 0.0\n",
       "(positive_mild,)                  0.0\n",
       "(positive_moderate,)              0.0\n",
       "(recovered_full,)                 0.0\n",
       "(resp_illness_not_identified,)    0.0\n",
       "Name: 585, dtype: float64"
      ]
     },
     "metadata": {},
     "output_type": "display_data"
    }
   ],
   "source": [
    "display(X_test.loc[585])"
   ]
  },
  {
   "cell_type": "code",
   "execution_count": 107,
   "id": "367638db",
   "metadata": {},
   "outputs": [],
   "source": [
    "new_pred = classifier.predict(np.array([[ 1.0,1.0,0.0,1.0,0.0,0.0,0.0,0.0,0.0,0.0,0.0,1.0,0.0,0.0,0.0,0.0,0.0,0.0,0.0,0.0,0.0,\n",
    "                                                       0.0,0.0,1.0,0.0,0.0,0.0,0.0,0.0,0.0]]))"
   ]
  },
  {
   "cell_type": "code",
   "execution_count": 108,
   "id": "8046889e",
   "metadata": {},
   "outputs": [
    {
     "data": {
      "text/plain": [
       "array([[False]])"
      ]
     },
     "execution_count": 108,
     "metadata": {},
     "output_type": "execute_result"
    }
   ],
   "source": [
    "new_pred = (new_pred>0.5)\n",
    "new_pred"
   ]
  },
  {
   "cell_type": "code",
   "execution_count": null,
   "id": "6d2e3569",
   "metadata": {},
   "outputs": [],
   "source": []
  }
 ],
 "metadata": {
  "kernelspec": {
   "display_name": "Python 3",
   "language": "python",
   "name": "python3"
  },
  "language_info": {
   "codemirror_mode": {
    "name": "ipython",
    "version": 3
   },
   "file_extension": ".py",
   "mimetype": "text/x-python",
   "name": "python",
   "nbconvert_exporter": "python",
   "pygments_lexer": "ipython3",
   "version": "3.8.8"
  }
 },
 "nbformat": 4,
 "nbformat_minor": 5
}
